{
 "cells": [
  {
   "cell_type": "code",
   "execution_count": 3,
   "metadata": {},
   "outputs": [
    {
     "name": "stdout",
     "output_type": "stream",
     "text": [
      "nilesh\n",
      "dip\n",
      "ram\n",
      "1\n",
      "2\n",
      "3\n",
      "4\n",
      "5\n"
     ]
    }
   ],
   "source": [
    "#ans 1\n",
    "# FOR LOOP :- When you have a collection of items that you want to iterate over, such as a list, tuple, set, or dictionary. For loops are particularly useful for iterating over sequences of data.\n",
    "a = ['nilesh', 'dip', 'ram']\n",
    "for a in a:\n",
    "    print(a)\n",
    "\n",
    "# WHILE LOOP :- When you want to repeat a block of code until a certain condition is met, such as when you want to keep prompting a user for input until they enter a valid input. While loops are particularly useful for cases where the number of iterations is not known in advance.\n",
    "i = 1\n",
    "while i < 6:\n",
    "  print(i)\n",
    "  i = i+1"
   ]
  },
  {
   "cell_type": "code",
   "execution_count": 3,
   "metadata": {},
   "outputs": [
    {
     "name": "stdout",
     "output_type": "stream",
     "text": [
      "Sum of first 10 natural numbers: 55\n"
     ]
    }
   ],
   "source": [
    "#ans 2]\n",
    "sum = 0\n",
    "for i in range(1, 11):\n",
    "    sum = sum + i\n",
    "print(\"Sum of first 10 natural numbers:\", sum)"
   ]
  },
  {
   "cell_type": "code",
   "execution_count": 15,
   "metadata": {},
   "outputs": [
    {
     "name": "stdout",
     "output_type": "stream",
     "text": [
      "enter number of units used in a month310\n",
      "2250.0\n"
     ]
    }
   ],
   "source": [
    "#ans 3]\n",
    "\n",
    "total_units_consumed=int(input(\"enter number of units used in a month\"))\n",
    "total_bill=0\n",
    "first100units=4.5\n",
    "unitsfrom100to200=6\n",
    "unitsfrom200to300=10\n",
    "unitsfrom300andabove=20\n",
    "if total_units_consumed<=100:\n",
    "    total_bill=total_units_consumed*4.5\n",
    "elif total_units_consumed<=200:\n",
    "    total_bill=(100*first100units)+((total_units_consumed-100)*unitsfrom100to200)\n",
    "elif total_units_consumed<=300:\n",
    "    total_bill=(100*first100units)+(100*unitsfrom100to200)+((total_units_consumed-200)*unitsfrom200to300)\n",
    "else :\n",
    "    total_bill=(100*first100units)+(100*unitsfrom100to200)+(100*unitsfrom200to300)+((total_units_consumed-300)*unitsfrom300andabove)\n",
    "print(total_bill)"
   ]
  },
  {
   "cell_type": "code",
   "execution_count": 31,
   "metadata": {},
   "outputs": [
    {
     "name": "stdout",
     "output_type": "stream",
     "text": [
      "[1, 2, 3, 4, 5, 6, 7, 8, 9, 10, 11, 12, 13, 14, 15, 16, 17, 18, 19, 20, 21, 22, 23, 24, 25, 26, 27, 28, 29, 30, 31, 32, 33, 34, 35, 36, 37, 38, 39, 40, 41, 42, 43, 44, 45, 46, 47, 48, 49, 50, 51, 52, 53, 54, 55, 56, 57, 58, 59, 60, 61, 62, 63, 64, 65, 66, 67, 68, 69, 70, 71, 72, 73, 74, 75, 76, 77, 78, 79, 80, 81, 82, 83, 84, 85, 86, 87, 88, 89, 90, 91, 92, 93, 94, 95, 96, 97, 98, 99]\n",
      "the cube of that number is divisible by 4 or 5 in the list is :  [8000, 64000, 216000, 512000]\n"
     ]
    }
   ],
   "source": [
    "# ans 4]\n",
    "l1=[*range(1,100)]\n",
    "l2=[]\n",
    "for i in l1:\n",
    "    l=(i*i*i)\n",
    "    if i%4==0 and i%5==0:\n",
    "        l2.append(l)\n",
    "        \n",
    "\n",
    "print(l1)\n",
    "print(\"the cube of that number is divisible by 4 or 5 in the list is : \",l2)"
   ]
  },
  {
   "cell_type": "code",
   "execution_count": 16,
   "metadata": {},
   "outputs": [
    {
     "name": "stdout",
     "output_type": "stream",
     "text": [
      "12\n"
     ]
    }
   ],
   "source": [
    "#ans 5]\n",
    "string = \"I want to become a data scientist\"\n",
    "vowels = \"aeiou\"\n",
    "string = string.lower()\n",
    "\n",
    "vowel = 0\n",
    "for char in string:\n",
    "    if char in vowels:\n",
    "        vowel += 1\n",
    "print(vowel)"
   ]
  },
  {
   "cell_type": "code",
   "execution_count": null,
   "metadata": {},
   "outputs": [],
   "source": []
  }
 ],
 "metadata": {
  "kernelspec": {
   "display_name": "Python 3",
   "language": "python",
   "name": "python3"
  },
  "language_info": {
   "codemirror_mode": {
    "name": "ipython",
    "version": 3
   },
   "file_extension": ".py",
   "mimetype": "text/x-python",
   "name": "python",
   "nbconvert_exporter": "python",
   "pygments_lexer": "ipython3",
   "version": "3.7.6"
  }
 },
 "nbformat": 4,
 "nbformat_minor": 4
}
