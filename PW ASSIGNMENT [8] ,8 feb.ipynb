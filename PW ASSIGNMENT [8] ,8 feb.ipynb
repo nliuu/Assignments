{
 "cells": [
  {
   "cell_type": "markdown",
   "metadata": {},
   "source": [
    " ANS 1\n",
    "    \n",
    "    Abstraction in Object-Oriented Programming (OOPs) is the process of hiding the internal implementation details of an object and exposing only the essential features or functionalities to the outside world.\n",
    "    \n",
    "    for eg. consider a student class. student class ha properties such as standard, cource enrolled, roll no, etc. we define student class with properties and behaviour , but we hide the internal details of actions implimented"
   ]
  },
  {
   "cell_type": "markdown",
   "metadata": {},
   "source": [
    " ANS 2\n",
    "    \n",
    "    Abstraction focuses on hiding the internal details and exposing only the essential features or functionalities. It provides a high-level view of an object, allowing users to interact with it without knowing the implementation details. \n",
    "    \n",
    "    Encapsulation  is the process of bundling data and methods together within a class and restricting access to the internal data from outside the class. It provides data hiding and protects the integrity of the data.\n",
    "    e.g. encapsulation can we used with classes such as bankaccounts so that it can be accessed by methods such as deposit() or withdraw() "
   ]
  },
  {
   "cell_type": "markdown",
   "metadata": {},
   "source": [
    " ANS 3 \n",
    "    \n",
    "    'abc' module in Python provides infrastructure for defining abstract base classes in Python.They define a common interface for their subclasses, ensuring that the subclasses implement certain methods or properties.\n",
    "    \n",
    "    The abc module is used to enforce a certain structure or behavior in subclasses and ensure that they adhere to a specific contract defined by the abstract base class. It helps in achieving data abstraction and designing hierarchies of classes with a common interface."
   ]
  },
  {
   "cell_type": "markdown",
   "metadata": {},
   "source": [
    "ANS 4\n",
    "\n",
    "    data abstraction in object-oriented programming can be achived by using abstract class or interfaces.steps include defining an abstract class that represent the abstraction we want to achive than declare abstract methods that represent the essential features we want to express, and create a concrete classes that inherit from the abstract class than use objects of the concrete classes to inherit the abstraction"
   ]
  },
  {
   "cell_type": "markdown",
   "metadata": {},
   "source": [
    "ANS 5\n",
    "\n",
    "    No, we cannot create an instance of an abstract class. An abstract class serves as a blueprint for other classes and is designed to be subclassed. It cannot be instantiated on its own because it usually contains one or more abstract methods that have no implementation in the abstract class itself. These abstract methods must be implemented by the subclasses."
   ]
  },
  {
   "cell_type": "code",
   "execution_count": null,
   "metadata": {},
   "outputs": [],
   "source": []
  }
 ],
 "metadata": {
  "kernelspec": {
   "display_name": "Python 3",
   "language": "python",
   "name": "python3"
  },
  "language_info": {
   "codemirror_mode": {
    "name": "ipython",
    "version": 3
   },
   "file_extension": ".py",
   "mimetype": "text/x-python",
   "name": "python",
   "nbconvert_exporter": "python",
   "pygments_lexer": "ipython3",
   "version": "3.7.6"
  }
 },
 "nbformat": 4,
 "nbformat_minor": 4
}
