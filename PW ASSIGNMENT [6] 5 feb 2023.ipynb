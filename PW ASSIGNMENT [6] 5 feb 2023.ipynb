{
 "cells": [
  {
   "cell_type": "markdown",
   "metadata": {},
   "source": [
    "ANS 1:\n",
    "    \n",
    "In object-oriented programming (OOP), a CLASS is a blueprint or a template for creating objects, while an OBJECT is an instance of a class. A class defines the properties (attributes) and behaviors (methods) that objects of that class possess.\n",
    "\n",
    "example: we define a class called Car. It has three attributes: brand, model, and speed.\n",
    "we can create objects (instances) of the Car class such as Car1 & Car2."
   ]
  },
  {
   "cell_type": "markdown",
   "metadata": {},
   "source": [
    "ANS 2:\n",
    "\n",
    "    1.Encapsulation\n",
    "    2.Inheritance\n",
    "    3.Polymorphysm\n",
    "    4.Abstraction\n",
    "    are the 4 pillers of OOPs."
   ]
  },
  {
   "cell_type": "code",
   "execution_count": 1,
   "metadata": {},
   "outputs": [
    {
     "ename": "SyntaxError",
     "evalue": "invalid syntax (<ipython-input-1-364dccb42962>, line 1)",
     "output_type": "error",
     "traceback": [
      "\u001b[1;36m  File \u001b[1;32m\"<ipython-input-1-364dccb42962>\"\u001b[1;36m, line \u001b[1;32m1\u001b[0m\n\u001b[1;33m    ANS 3:\u001b[0m\n\u001b[1;37m        ^\u001b[0m\n\u001b[1;31mSyntaxError\u001b[0m\u001b[1;31m:\u001b[0m invalid syntax\n"
     ]
    }
   ],
   "source": [
    "ANS 3:\n",
    "    \n",
    "    "
   ]
  },
  {
   "cell_type": "markdown",
   "metadata": {},
   "source": [
    "ANS 4:\n",
    "\n",
    "    In object-oriented programming (OOP), the self parameter is used as a reference to the current instance of a class.In object-oriented programming (OOP), the self parameter is used as a reference to the current instance of a class.\n"
   ]
  },
  {
   "cell_type": "markdown",
   "metadata": {},
   "source": [
    "ANS 5:\n",
    "    \n",
    "    Inheritance is a fundamental concept in object-oriented programming (OOP) that allows you to create a new class from an existing class. The derived class inherits the attributes and methods of the base class, enabling code reuse and promoting hierarchical organization of classes."
   ]
  },
  {
   "cell_type": "code",
   "execution_count": null,
   "metadata": {},
   "outputs": [],
   "source": []
  }
 ],
 "metadata": {
  "kernelspec": {
   "display_name": "Python 3",
   "language": "python",
   "name": "python3"
  },
  "language_info": {
   "codemirror_mode": {
    "name": "ipython",
    "version": 3
   },
   "file_extension": ".py",
   "mimetype": "text/x-python",
   "name": "python",
   "nbconvert_exporter": "python",
   "pygments_lexer": "ipython3",
   "version": "3.7.6"
  }
 },
 "nbformat": 4,
 "nbformat_minor": 4
}
